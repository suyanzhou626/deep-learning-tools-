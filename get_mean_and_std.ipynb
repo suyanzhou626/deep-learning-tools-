{
 "cells": [
  {
   "cell_type": "code",
   "execution_count": 5,
   "metadata": {
    "ExecuteTime": {
     "end_time": "2021-05-03T06:42:01.683621Z",
     "start_time": "2021-05-03T06:42:01.315785Z"
    }
   },
   "outputs": [],
   "source": [
    "import os\n",
    "import glob\n",
    "import pandas\n",
    "import tqdm\n",
    "import numpy as np\n",
    "from PIL import Image\n",
    "\n",
    "import torch\n",
    "from torch.utils.data import DataLoader\n",
    "from torch.utils.data.dataset import Dataset"
   ]
  },
  {
   "cell_type": "code",
   "execution_count": 10,
   "metadata": {
    "ExecuteTime": {
     "end_time": "2021-05-03T06:42:35.935490Z",
     "start_time": "2021-05-03T06:42:35.931825Z"
    }
   },
   "outputs": [],
   "source": [
    "dir_path=\"/media/hdd/Remote_Sensing/dataset/potsdam/IRRG\""
   ]
  },
  {
   "cell_type": "code",
   "execution_count": 11,
   "metadata": {
    "ExecuteTime": {
     "end_time": "2021-05-03T06:42:36.494294Z",
     "start_time": "2021-05-03T06:42:36.489260Z"
    }
   },
   "outputs": [],
   "source": [
    "class MyDataset(Dataset):\n",
    "    def __init__(self, dataset_path):\n",
    "#         self.data = torch.randn(100, 3, 24, 24)\n",
    "        self.datalist = glob.glob(os.path.join(dataset_path, '*.tif'))\n",
    "\n",
    "    def __getitem__(self, index):\n",
    "        \n",
    "        fp = self.datalist[index]\n",
    "        x = Image.open(fp)\n",
    "        arrayx = np.array(x)\n",
    "        torchx = torch.from_numpy(arrayx)\n",
    "        \n",
    "        return torchx.float()\n",
    "\n",
    "    def __len__(self):\n",
    "        return len(self.datalist)"
   ]
  },
  {
   "cell_type": "code",
   "execution_count": null,
   "metadata": {
    "ExecuteTime": {
     "start_time": "2021-05-03T06:42:37.402Z"
    },
    "tags": []
   },
   "outputs": [
    {
     "name": "stderr",
     "output_type": "stream",
     "text": [
      " 63%|██████▎   | 24/38 [00:24<00:13,  1.01it/s]"
     ]
    }
   ],
   "source": [
    "# refer to: https://discuss.pytorch.org/t/about-normalization-using-pre-trained-vgg16-networks/23560/20\n",
    "dataset = MyDataset(dataset_path=dir_path)\n",
    "loader = DataLoader(\n",
    "    dataset,\n",
    "    batch_size=1,\n",
    "    num_workers=1,\n",
    "    shuffle=False\n",
    ")\n",
    "\n",
    "nb_samples = 0.\n",
    "channel_mean = torch.Tensor([0., 0., 0.])\n",
    "channel_std = torch.Tensor([0., 0., 0.])\n",
    "for images in tqdm.tqdm(loader):\n",
    "    # scale image to be between 0 and 1 \n",
    "    images=images/255.\n",
    "    batch_samples = images.size(0)\n",
    "    images = images.view(batch_samples, images.size(1)*images.size(2), 3)\n",
    "    for i in range(3):\n",
    "        channel_mean[i]+=images[:, :,i].mean(1).sum(0)\n",
    "        channel_std[i]+=images[:, :,i].std(1).sum(0)\n",
    "    nb_samples += batch_samples\n",
    "\n",
    "channel_mean /= nb_samples\n",
    "channel_std /= nb_samples\n",
    " \n",
    "print(f\"channel mean: {channel_mean}, channel_std: {channel_std}\")"
   ]
  },
  {
   "cell_type": "code",
   "execution_count": null,
   "metadata": {},
   "outputs": [],
   "source": []
  }
 ],
 "metadata": {
  "kernelspec": {
   "display_name": "Python 3",
   "language": "python",
   "name": "python3"
  },
  "language_info": {
   "codemirror_mode": {
    "name": "ipython",
    "version": 3
   },
   "file_extension": ".py",
   "mimetype": "text/x-python",
   "name": "python",
   "nbconvert_exporter": "python",
   "pygments_lexer": "ipython3",
   "version": "3.7.10"
  },
  "toc": {
   "base_numbering": 1,
   "nav_menu": {},
   "number_sections": true,
   "sideBar": true,
   "skip_h1_title": false,
   "title_cell": "Table of Contents",
   "title_sidebar": "Contents",
   "toc_cell": false,
   "toc_position": {},
   "toc_section_display": true,
   "toc_window_display": false
  },
  "varInspector": {
   "cols": {
    "lenName": 16,
    "lenType": 16,
    "lenVar": 40
   },
   "kernels_config": {
    "python": {
     "delete_cmd_postfix": "",
     "delete_cmd_prefix": "del ",
     "library": "var_list.py",
     "varRefreshCmd": "print(var_dic_list())"
    },
    "r": {
     "delete_cmd_postfix": ") ",
     "delete_cmd_prefix": "rm(",
     "library": "var_list.r",
     "varRefreshCmd": "cat(var_dic_list()) "
    }
   },
   "types_to_exclude": [
    "module",
    "function",
    "builtin_function_or_method",
    "instance",
    "_Feature"
   ],
   "window_display": false
  }
 },
 "nbformat": 4,
 "nbformat_minor": 4
}
